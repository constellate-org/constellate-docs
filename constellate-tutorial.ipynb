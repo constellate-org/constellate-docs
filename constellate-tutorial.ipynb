{
 "cells": [
  {
   "cell_type": "markdown",
   "metadata": {},
   "source": [
    "#constellate: ignore\n",
    "\n",
    "If you're looking at this, it means you're looking at the Jupyter notebook and not the Constellation. If you want to be looking at the output and not the backstage action, you should probably be looking at the Constellation, hosted [here](https://constellate.vercel.app/constellate-tutorial/0).\n",
    "\n",
    "$$\n",
    "% This is the LaTeX preamble used in Constellate, with the small difference that the colors are adjusted based on the dark/light theme.\n",
    "% It's used here so that the macros will show up correctly in VSCode (May 2022 insiders build), although I'm not sure it will work\n",
    "% in other environments.\n",
    "\\providecommand{\\R}{{\\mathbb{R}}}\n",
    "\\providecommand{\\Q}{{\\mathbb{Q}}}\n",
    "\\providecommand{\\N}{{\\mathbb{N}}}\n",
    "\\providecommand{\\C}{{\\mathbb{C}}}\n",
    "\n",
    "\\providecommand{\\cblue}[1]{\\textcolor{147eb3}{#1}}\n",
    "\\providecommand{\\cgreen}[1]{\\textcolor{29a634}{#1}}\n",
    "\\providecommand{\\cyellow}[1]{\\textcolor{d1980b}{#1}}\n",
    "\\providecommand{\\cred}[1]{\\textcolor{d33d17}{#1}}\n",
    "\\providecommand{\\cpurple}[1]{\\textcolor{9d3f9d}{#1}}\n",
    "\\providecommand{\\cteal}[1]{\\textcolor{00a396}{#1}}\n",
    "\\providecommand{\\cpink}[1]{\\textcolor{db2c6f}{#1}}\n",
    "\\providecommand{\\clime}[1]{\\textcolor{8eb125}{#1}}\n",
    "\\providecommand{\\cbrown}[1]{\\textcolor{946638}{#1}}\n",
    "\\providecommand{\\cindigo}[1]{\\textcolor{7961db}{#1}}\n",
    "\n",
    "\\providecommand{\\cone}[1]{\\textcolor{147eb3}{#1}}\n",
    "\\providecommand{\\ctwo}[1]{\\textcolor{29a634}{#1}}\n",
    "\\providecommand{\\cthree}[1]{\\textcolor{d1980b}{#1}}\n",
    "\\providecommand{\\cfour}[1]{\\textcolor{d33d17}{#1}}\n",
    "\\providecommand{\\cfive}[1]{\\textcolor{9d3f9d}{#1}}\n",
    "\\providecommand{\\csix}[1]{\\textcolor{00a396}{#1}}\n",
    "\\providecommand{\\cseven}[1]{\\textcolor{db2c6f}{#1}}\n",
    "\\providecommand{\\ceight}[1]{\\textcolor{8eb125}{#1}}\n",
    "\\providecommand{\\cnine}[1]{\\textcolor{946638}{#1}}\n",
    "\\providecommand{\\cten}[1]{\\textcolor{7961db}{#1}}\n",
    "$$"
   ]
  },
  {
   "cell_type": "markdown",
   "metadata": {},
   "source": [
    "# Constellate Tutorial\n",
    "\n",
    "Constellate is a web publishing platform that presents Jupyter notebooks as interactive web applications. This tutorial is an example of what that looks like. If you want to publish websites like this one without doing any web development, keep reading!\n",
    "\n",
    "(Pro tip: you can press <kbd>N</kbd> or <kbd>→</kbd> to go to the next page. To see all of the keyboard shortcuts, press <kbd>?</kbd>.)"
   ]
  },
  {
   "cell_type": "markdown",
   "metadata": {},
   "source": [
    "## Installation\n",
    "\n",
    "Constellate will need to run your code. So, in whatever environment you run your Jupyter notebooks in, install Constellate by executing:\n",
    "\n",
    "```bash\n",
    "pip install constellate-app\n",
    "```\n",
    "\n",
    "This should make the `constellate` command-line tool available from that virtual environment—use that environment to run the commands described later."
   ]
  },
  {
   "cell_type": "markdown",
   "metadata": {},
   "source": [
    "## Making a Notebook\n",
    "\n",
    "Constellate is designed to make it easy to retrofit existing notebooks to match the format Constellate expects. For now, though, we'll make a new notebook from scratch. Put it wherever you want on your file system and call it whatever you want: I'll call mine `getting-started.ipynb`."
   ]
  },
  {
   "cell_type": "markdown",
   "metadata": {},
   "source": [
    "### Writing Some Text\n",
    "\n",
    "Constellate supports all of the Markdown that Jupyter notebooks support, along with a couple extra additions.[^1]\n",
    "\n",
    "Open your notebook and add some text. Here's what I'm using, but you can feel free to freestyle:\n",
    "\n",
    "```markdown\n",
    "# Getting Started\n",
    "\n",
    "This is a test notebook. The title of the Constellation will be \"Getting Started\" because that's what the first level-1 header is. This[^1] is a footnote—Jupyter notebooks don't support these, but Constellate does. [^1]\n",
    "\n",
    "[^1]: This is the footnote's text.\n",
    "```\n",
    "\n",
    "[^1]: Like footnotes!"
   ]
  },
  {
   "cell_type": "markdown",
   "metadata": {},
   "source": [
    "## Seeing the Fruits of Our Labor\n",
    "\n",
    "To see what this looks like as a Constellation, open a terminal and run[^1]\n",
    "\n",
    "```bash\n",
    "constellate dev getting-started.ipynb\n",
    "```\n",
    "\n",
    "`constellate dev` will run a development server that reloads automatically as you change and save notebooks. (You may have to reload pages to see changes.) It works with any number of notebooks: `constellate dev *.ipynb` will run all of the notebooks in a folder.\n",
    "\n",
    "Now is a good time to mention that **Constellate can run whatever code is in your notebook. Do not build notebooks you do not trust.**\n",
    "\n",
    "With that disclaimer out of the way, navigate to [localhost:3000](localhost:3000). It will show a landing page of all of the Constellations you have currently. Click on the \"Getting Started\" one, and you should see something like this:\n",
    "\n",
    "[![image.png](https://i.postimg.cc/fTDfv041/image.png)](https://postimg.cc/jC3fx2Sh)\n",
    "\n",
    "Constellate has premier support for dark mode—press <kbd>D</kbd> to toggle.\n",
    "\n",
    "Jupyter notebooks can do a lot more than Markdown; let's make a plot!\n",
    "\n",
    "[^1]: Don't forget to replace `getting-started.ipynb` with your own file name."
   ]
  },
  {
   "cell_type": "markdown",
   "metadata": {},
   "source": [
    "## Adding a Plot\n",
    "\n",
    "Constellate displays plots alongside Markdown cells. This lets you explain what's going on or offer context on the same screen. Let's add a graph and some explanation. Add a Markdown cell after the first one you added above, and add the text below or freestyle your own:\n",
    "\n",
    "```markdown\n",
    "## Example Graph\n",
    "\n",
    "The standard <span class='text-c1'>normal</span> distribution has the probability density function\n",
    "$$\\frac{1}{\\sqrt{2 \\pi}} e^{-\\frac{1}{2} x^2}$$\n",
    "\n",
    "The standard <span class='text-c2'>Cauchy</span> distribution has probability density function\n",
    "$$\\frac{1}{\\pi(x^2 + 1)}$$\n",
    "```\n",
    "\n",
    "Then, in a Python cell below that one, add the following code or write your own:\n",
    "\n",
    "```python\n",
    "import numpy as np\n",
    "import matplotlib.pyplot as plt\n",
    "\n",
    "xx = np.linspace(-5, 5, 100)\n",
    "\n",
    "plt.plot(xx, np.exp(-0.5 * xx ** 2) / np.sqrt(2 * np.pi), label='Normal Distribution')\n",
    "plt.plot(xx, 1 / (np.pi * (xx ** 2 + 1)), label='Cauchy Distribution')\n",
    "plt.legend()\n",
    "```\n",
    "\n",
    "Running the cell in a notebook should produce a graph.[^1] Now let's see how Constellate displays your new output.\n",
    "\n",
    "[^1]: You might need to install `numpy` with `pip install numpy`."
   ]
  },
  {
   "cell_type": "markdown",
   "metadata": {},
   "source": [
    "If you still have `constellate dev` running, then your changes should already be loaded. If not, run `constellate dev getting-started.ipynb` and then navigate to [localhost:3000](http://localhost:3000). Select the \"Getting Started\" notebook and then navigate to the second page. You should see something like this:\n",
    "\n",
    "[![image.png](https://i.postimg.cc/15hV8G65/image.png)](https://postimg.cc/6TcpSGYD)\n",
    "\n",
    "Let's go over what Constellate did. If you're just trying to get your feet wet, feel free to just go to the next page and see how to share Constellations with others.\n",
    "\n",
    " - Constellate sees a Markdown cell followed by a Python cell that produces a static image as output, and it further sees that you import `matplotlib`.\n",
    " - Constellate applies a [custom theme](https://github.com/nicholas-miklaucic/rho_plus) to the plot. There are several reasons for this:\n",
    "   - The theme has matching light and dark versions, so toggling the dark theme will change the plot to match.[^1]\n",
    "   - There are sister themes for other common Python visualization libraries, so mixing `matplotlib` and `bokeh` plots will maintain a single visual style.\n",
    "   - Referring to colors used in a plot is fairly common, and doing that with dark mode support requires Constellate knowing what those colors are. Note how I use `<span color='text-c1'>normal</span>` to make <span color='text-c1'>normal</span> colored to match the color used in the plot, in both light and dark mode. There's more on this in the user guide.\n",
    " - Constellate, as noted above, then runs the cell twice: once to generate a light-mode version, and once to generate a dark-mode version. These are then saved as images and included in the processed `getting-started.constellate` file used to inform the server.\n",
    "\n",
    "[^1]: Note how the hues used are in the same order: a dark blue in the light theme becomes a light blue in the dark theme, so you can still talk about \"the blue line\" and make sense."
   ]
  },
  {
   "cell_type": "markdown",
   "metadata": {},
   "source": [
    "## Deployment\n",
    "\n",
    "Working on your own computer makes testing easy and might suffice for presentations or simple demonstrations. If you want to share your content with the world, however, you probably want a website they can visit. \n",
    "\n",
    "If you have a server, Constellate makes this pretty straightforward. Run\n",
    "\n",
    "```bash\n",
    "constellate build paths-to-notebooks.ipynb\n",
    "```\n",
    "\n",
    "to build notebooks, and then run\n",
    "\n",
    "```bash\n",
    "constellate serve-production\n",
    "```\n",
    "\n",
    "to run the production server. This will be significantly faster than the dev server, at the cost of auto-reloading.\n",
    "\n",
    "If you have Python interactivity in your Constellations, you can serve that by running\n",
    "\n",
    "```bash\n",
    "constellate python-serve\n",
    "```"
   ]
  },
  {
   "cell_type": "markdown",
   "metadata": {},
   "source": []
  }
 ],
 "metadata": {
  "interpreter": {
   "hash": "e1f500c63928480d774878a0f07da46b956d5b7679a924523ceeabbfef458c5f"
  },
  "kernelspec": {
   "display_name": "Python 3.7.11 ('ds')",
   "language": "python",
   "name": "python3"
  },
  "language_info": {
   "codemirror_mode": {
    "name": "ipython",
    "version": 3
   },
   "file_extension": ".py",
   "mimetype": "text/x-python",
   "name": "python",
   "nbconvert_exporter": "python",
   "pygments_lexer": "ipython3",
   "version": "3.9.13"
  },
  "orig_nbformat": 4
 },
 "nbformat": 4,
 "nbformat_minor": 2
}
